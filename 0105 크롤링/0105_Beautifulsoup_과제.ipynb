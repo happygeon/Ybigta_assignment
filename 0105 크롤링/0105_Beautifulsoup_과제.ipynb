{
 "cells": [
  {
   "cell_type": "code",
   "execution_count": 28,
   "metadata": {},
   "outputs": [],
   "source": [
    "from bs4 import BeautifulSoup\n",
    "import requests\n",
    "import pandas as pd\n",
    "\n",
    "url = \"https://www.musinsa.com/app/codimap/lists?style_type=&tag_no=&brand=&display_cnt=60&list_kind=big&sort=comment_cnt&page=1\"\n",
    "res = requests.get(url,headers={'User-agent':'Mozila/5.0'})\n",
    "soup = BeautifulSoup(res.text, 'html.parser')\n",
    "strategy = soup.find_all('li', class_=\"style-list-item\")\n",
    "\n",
    "# 주요뉴스 헤드라인을 저장할 리스트\n",
    "codimap_category = []\n",
    "codimap_title = []\n",
    "codimap_date = []\n",
    "views = []\n",
    "comment_numbers = []\n",
    "\n",
    "# 주요뉴스에 있는 헤드라인 텍스트 정보 추출한 뒤 리스트에 저장\n",
    "for i in range(len(strategy)):\n",
    "  #strategies.append(strategy.find_all('a')[i].get_text())\n",
    "  codimap_category.append(strategy[i].find(class_= \"style-list-information__text\").get_text())\n",
    "  codimap_title.append(strategy[i].find(class_= \"style-list-information__title\").get_text())\n",
    "  codimap_date.append(strategy[i].find_all(class_= \"post-information__text\")[0].get_text())\n",
    "  views.append(strategy[i].find_all(class_= \"post-information__text\")[1].get_text()[3:])\n",
    "  comment_numbers.append(strategy[i].find_all(class_= \"post-information__text\")[2].get_text()[3:])\n",
    "\n",
    "df = pd.DataFrame(codimap_category, columns = ['codimap_category'])\n",
    "df['codimap_title'] = codimap_title\n",
    "df['codimap_date'] = codimap_date\n",
    "df['views'] = views\n",
    "df['comment_numbers'] = comment_numbers\n",
    "\n",
    "df.to_csv(\"0105_Beautifulsoup_과제.csv\",encoding='utf-8-sig')"
   ]
  }
 ],
 "metadata": {
  "kernelspec": {
   "display_name": "Python 3",
   "language": "python",
   "name": "python3"
  },
  "language_info": {
   "codemirror_mode": {
    "name": "ipython",
    "version": 3
   },
   "file_extension": ".py",
   "mimetype": "text/x-python",
   "name": "python",
   "nbconvert_exporter": "python",
   "pygments_lexer": "ipython3",
   "version": "3.9.7"
  }
 },
 "nbformat": 4,
 "nbformat_minor": 2
}
